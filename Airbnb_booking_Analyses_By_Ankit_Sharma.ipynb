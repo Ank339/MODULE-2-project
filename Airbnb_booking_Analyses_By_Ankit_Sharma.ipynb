{
  "nbformat": 4,
  "nbformat_minor": 0,
  "metadata": {
    "colab": {
      "private_outputs": true,
      "provenance": [],
      "collapsed_sections": [
        "vncDsAP0Gaoa",
        "FJNUwmbgGyua",
        "w6K7xa23Elo4",
        "yQaldy8SH6Dl",
        "PH-0ReGfmX4f",
        "mDgbUHAGgjLW",
        "O_i_v8NEhb9l",
        "HhfV-JJviCcP",
        "Y3lxredqlCYt",
        "3RnN4peoiCZX",
        "x71ZqKXriCWQ",
        "7hBIi_osiCS2",
        "JlHwYmJAmNHm",
        "35m5QtbWiB9F",
        "PoPl-ycgm1ru",
        "H0kj-8xxnORC",
        "nA9Y7ga8ng1Z",
        "PBTbrJXOngz2",
        "u3PMJOP6ngxN",
        "dauF4eBmngu3",
        "bKJF3rekwFvQ",
        "MSa1f5Uengrz",
        "GF8Ens_Soomf",
        "0wOQAZs5pc--",
        "K5QZ13OEpz2H",
        "lQ7QKXXCp7Bj",
        "448CDAPjqfQr",
        "KSlN3yHqYklG",
        "t6dVpIINYklI",
        "ijmpgYnKYklI",
        "-JiQyfWJYklI",
        "EM7whBJCYoAo",
        "fge-S5ZAYoAp",
        "85gYPyotYoAp",
        "RoGjAbkUYoAp",
        "4Of9eVA-YrdM",
        "iky9q4vBYrdO",
        "F6T5p64dYrdO",
        "y-Ehk30pYrdP",
        "bamQiAODYuh1",
        "QHF8YVU7Yuh3",
        "GwzvFGzlYuh3",
        "qYpmQ266Yuh3",
        "OH-pJp9IphqM",
        "bbFf2-_FphqN",
        "_ouA3fa0phqN",
        "Seke61FWphqN",
        "PIIx-8_IphqN",
        "t27r6nlMphqO",
        "r2jJGEOYphqO",
        "b0JNsNcRphqO",
        "BZR9WyysphqO",
        "jj7wYXLtphqO",
        "eZrbJ2SmphqO",
        "rFu4xreNphqO",
        "YJ55k-q6phqO",
        "gCFgpxoyphqP",
        "OVtJsKN_phqQ",
        "lssrdh5qphqQ",
        "U2RJ9gkRphqQ",
        "1M8mcRywphqQ",
        "tgIPom80phqQ",
        "JMzcOPDDphqR",
        "x-EpHcCOp1ci",
        "X_VqEhTip1ck",
        "8zGJKyg5p1ck",
        "PVzmfK_Ep1ck",
        "n3dbpmDWp1ck",
        "ylSl6qgtp1ck",
        "ZWILFDl5p1ck",
        "M7G43BXep1ck",
        "Ag9LCva-p1cl",
        "E6MkPsBcp1cl",
        "2cELzS2fp1cl",
        "3MPXvC8up1cl",
        "NC_X3p0fY2L0",
        "UV0SzAkaZNRQ",
        "YPEH6qLeZNRQ",
        "q29F0dvdveiT",
        "EXh0U9oCveiU",
        "22aHeOlLveiV",
        "JcMwzZxoAimU",
        "8G2x9gOozGDZ",
        "gCX9965dhzqZ",
        "gIfDvo9L0UH2"
      ],
      "include_colab_link": true
    },
    "kernelspec": {
      "name": "python3",
      "display_name": "Python 3"
    },
    "language_info": {
      "name": "python"
    }
  },
  "cells": [
    {
      "cell_type": "markdown",
      "metadata": {
        "id": "view-in-github",
        "colab_type": "text"
      },
      "source": [
        "<a href=\"https://colab.research.google.com/github/Ank339/MODULE-2-project/blob/main/Airbnb_booking_Analyses_By_Ankit_Sharma.ipynb\" target=\"_parent\"><img src=\"https://colab.research.google.com/assets/colab-badge.svg\" alt=\"Open In Colab\"/></a>"
      ]
    },
    {
      "cell_type": "markdown",
      "source": [
        "# **Project Name**    - Airbnb Booking Analyses\n",
        "\n"
      ],
      "metadata": {
        "id": "vncDsAP0Gaoa"
      }
    },
    {
      "cell_type": "markdown",
      "source": [
        "##### **Project Type**    - EDA\n",
        "##### **Contribution**    - Individual"
      ],
      "metadata": {
        "id": "beRrZCGUAJYm"
      }
    },
    {
      "cell_type": "markdown",
      "source": [
        "# **Project Summary -**"
      ],
      "metadata": {
        "id": "FJNUwmbgGyua"
      }
    },
    {
      "cell_type": "markdown",
      "source": [
        "Since 2008, guests and hosts have used Airbnb to expand on traveling possibilities and present a more unique, personalized way of experiencing the world. Today, Airbnb became one of a kind service that is used and recognized by the whole world. Data analysis on millions of listings provided through Airbnb is a crucial factor for the company. These millions of listings generate a lot of data - data that can be analyzed and used for security, business decisions, understanding of customers' and providers' (hosts) behavior and performance on the platform, guiding marketing initiatives, implementation of innovative additional services and much more.\n",
        "This dataset has around **49,000 observations** in it with **16 columns** and it is a mix between categorical and numeric values.\n",
        "\n"
      ],
      "metadata": {
        "id": "F6v_1wHtG2nS"
      }
    },
    {
      "cell_type": "markdown",
      "source": [
        "# **GitHub Link -**"
      ],
      "metadata": {
        "id": "w6K7xa23Elo4"
      }
    },
    {
      "cell_type": "markdown",
      "source": [],
      "metadata": {
        "id": "h1o69JH3Eqqn"
      }
    },
    {
      "cell_type": "markdown",
      "source": [
        "# **Problem Statement**\n",
        "\n"
      ],
      "metadata": {
        "id": "yQaldy8SH6Dl"
      }
    },
    {
      "cell_type": "markdown",
      "source": [
        "Lets Explore and analyze the Data Set and find some insights(Few Questions Listed Below)\n",
        "\n",
        "1.What can we learn about different hosts and areas?                       \n",
        "2.What we learn from room type and their prices according to area?               \n",
        "3.What can we learn from Data? (ex: locations, prices, reviews, etc)                   \n",
        "4.Which hosts are the busiest and what is the reason?            \n",
        "5.Which Hosts are charging higher price?              \n",
        "6.Is there any traffic difference among different areas and what could be the reason for it?                \n",
        "7.What is the correlation between different variables ?           \n",
        "8.What is the room count in overall NYC according to the listing of room types?"
      ],
      "metadata": {
        "id": "DpeJGUA3kjGy"
      }
    },
    {
      "cell_type": "markdown",
      "source": [
        "# **General Guidelines** : -  "
      ],
      "metadata": {
        "id": "mDgbUHAGgjLW"
      }
    },
    {
      "cell_type": "markdown",
      "source": [
        "1.   Well-structured, formatted, and commented code is required.\n",
        "2.   Exception Handling, Production Grade Code & Deployment Ready Code will be a plus. Those students will be awarded some additional credits.\n",
        "     \n",
        "     The additional credits will have advantages over other students during Star Student selection.\n",
        "       \n",
        "             [ Note: - Deployment Ready Code is defined as, the whole .ipynb notebook should be executable in one go\n",
        "                       without a single error logged. ]\n",
        "\n",
        "3.   Each and every logic should have proper comments.\n",
        "4. You may add as many number of charts you want. Make Sure for each and every chart the following format should be answered.\n",
        "        \n",
        "\n",
        "```\n",
        "# Chart visualization code\n",
        "```\n",
        "            \n",
        "\n",
        "*   Why did you pick the specific chart?\n",
        "*   What is/are the insight(s) found from the chart?\n",
        "* Will the gained insights help creating a positive business impact?\n",
        "Are there any insights that lead to negative growth? Justify with specific reason.\n",
        "\n",
        "5. You have to create at least 20 logical & meaningful charts having important insights.\n",
        "\n",
        "\n",
        "[ Hints : - Do the Vizualization in  a structured way while following \"UBM\" Rule.\n",
        "\n",
        "U - Univariate Analysis,\n",
        "\n",
        "B - Bivariate Analysis (Numerical - Categorical, Numerical - Numerical, Categorical - Categorical)\n",
        "\n",
        "M - Multivariate Analysis\n",
        " ]\n",
        "\n",
        "\n",
        "\n"
      ],
      "metadata": {
        "id": "ZrxVaUj-hHfC"
      }
    },
    {
      "cell_type": "markdown",
      "source": [
        "# ***Let's Begin !***"
      ],
      "metadata": {
        "id": "O_i_v8NEhb9l"
      }
    },
    {
      "cell_type": "markdown",
      "source": [
        "## ***1. Know Your Data***"
      ],
      "metadata": {
        "id": "HhfV-JJviCcP"
      }
    },
    {
      "cell_type": "markdown",
      "source": [
        "### Import Libraries"
      ],
      "metadata": {
        "id": "Y3lxredqlCYt"
      }
    },
    {
      "cell_type": "code",
      "source": [
        "# Import Libraries\n",
        "\n",
        "import pandas as pd\n",
        "import numpy as np\n",
        "import matplotlib.pyplot as plt\n",
        "import seaborn as sns\n",
        "%matplotlib inline\n"
      ],
      "metadata": {
        "id": "M8Vqi-pPk-HR"
      },
      "execution_count": null,
      "outputs": []
    },
    {
      "cell_type": "markdown",
      "source": [
        "### Mounting drive"
      ],
      "metadata": {
        "id": "KaTCRkGCidVF"
      }
    },
    {
      "cell_type": "code",
      "source": [
        "from google.colab import drive\n",
        "drive.mount('/content/drive')"
      ],
      "metadata": {
        "id": "OwfcoDCEguLu"
      },
      "execution_count": null,
      "outputs": []
    },
    {
      "cell_type": "markdown",
      "source": [
        "### Dataset Loading"
      ],
      "metadata": {
        "id": "3RnN4peoiCZX"
      }
    },
    {
      "cell_type": "code",
      "source": [
        "airbnb_df = pd.read_csv('/content/drive/MyDrive/module 2/Airbnb NYC 2019.csv')"
      ],
      "metadata": {
        "id": "4CkvbW_SlZ_R"
      },
      "execution_count": null,
      "outputs": []
    },
    {
      "cell_type": "markdown",
      "source": [
        "### Dataset First View"
      ],
      "metadata": {
        "id": "x71ZqKXriCWQ"
      }
    },
    {
      "cell_type": "code",
      "source": [
        "airbnb_df.head()"
      ],
      "metadata": {
        "id": "LWNFOSvLl09H"
      },
      "execution_count": null,
      "outputs": []
    },
    {
      "cell_type": "markdown",
      "source": [
        "### Dataset Rows & Columns count"
      ],
      "metadata": {
        "id": "7hBIi_osiCS2"
      }
    },
    {
      "cell_type": "code",
      "source": [
        "# Dataset Rows & Columns count\n",
        "airbnb_df.shape"
      ],
      "metadata": {
        "id": "Kllu7SJgmLij"
      },
      "execution_count": null,
      "outputs": []
    },
    {
      "cell_type": "markdown",
      "source": [
        "### Dataset Information"
      ],
      "metadata": {
        "id": "JlHwYmJAmNHm"
      }
    },
    {
      "cell_type": "code",
      "source": [
        "airbnb_df.info()\n"
      ],
      "metadata": {
        "id": "e9hRXRi6meOf"
      },
      "execution_count": null,
      "outputs": []
    },
    {
      "cell_type": "markdown",
      "source": [
        "#### Duplicate Values"
      ],
      "metadata": {
        "id": "35m5QtbWiB9F"
      }
    },
    {
      "cell_type": "code",
      "source": [
        "# Dataset Duplicate Value Count\n",
        "\n",
        "len(airbnb_df[airbnb_df.duplicated()])"
      ],
      "metadata": {
        "id": "1sLdpKYkmox0"
      },
      "execution_count": null,
      "outputs": []
    },
    {
      "cell_type": "markdown",
      "source": [
        "#### Missing Values/Null Values"
      ],
      "metadata": {
        "id": "PoPl-ycgm1ru"
      }
    },
    {
      "cell_type": "code",
      "source": [
        "# Missing Values/Null Values Count\n",
        "print(airbnb_df.isnull().sum())"
      ],
      "metadata": {
        "id": "GgHWkxvamxVg"
      },
      "execution_count": null,
      "outputs": []
    },
    {
      "cell_type": "code",
      "source": [
        "# Visualizing the missing values\n",
        "# Checking Null Value by plotting Heatmap\n",
        "sns.heatmap(airbnb_df.isnull(), cbar=True)"
      ],
      "metadata": {
        "id": "3q5wnI3om9sJ"
      },
      "execution_count": null,
      "outputs": []
    },
    {
      "cell_type": "markdown",
      "source": [
        "### What did you know about your dataset?"
      ],
      "metadata": {
        "id": "H0kj-8xxnORC"
      }
    },
    {
      "cell_type": "markdown",
      "source": [
        "The dataset given is a dataset of traveling industry where, Airbnb is a home-sharing site that connects travelers with hosts who offer unique places to stay, long term and short term stay.     \n",
        "So, our main goal is to optimize revenue and identify the best rental opportunities. By analyzing the data, hosts can understand market trends and competition, set optimal pricing strategies, and adjust their rental offerings to meet demand\n",
        "\n",
        "The above dataset has 48895 rows and 16 columns. There are no duplicate values in the dataset\n"
      ],
      "metadata": {
        "id": "gfoNAAC-nUe_"
      }
    },
    {
      "cell_type": "markdown",
      "source": [
        "## ***2. Understanding Your Variables***"
      ],
      "metadata": {
        "id": "nA9Y7ga8ng1Z"
      }
    },
    {
      "cell_type": "code",
      "source": [
        "# Dataset Columns\n",
        "airbnb_df.columns"
      ],
      "metadata": {
        "id": "j7xfkqrt5Ag5"
      },
      "execution_count": null,
      "outputs": []
    },
    {
      "cell_type": "code",
      "source": [
        "# Dataset Describe\n",
        "airbnb_df.describe()"
      ],
      "metadata": {
        "id": "DnOaZdaE5Q5t"
      },
      "execution_count": null,
      "outputs": []
    },
    {
      "cell_type": "markdown",
      "source": [
        "### Variables Description"
      ],
      "metadata": {
        "id": "PBTbrJXOngz2"
      }
    },
    {
      "cell_type": "markdown",
      "source": [
        "\n",
        "* id                   -  Unique Id   \n",
        "* name                 -  Name of listings    \n",
        "* host_id              - Unique host_id       \n",
        "* host_name            - Name of host_id       \n",
        "* neighbourhood_group  - Location      \n",
        "* neighbourhood        - Area     \n",
        "* latitude             - Latitude Range  \n",
        "* longitude            - Longitude Range   \n",
        "* room_type            - Type of Listing  \n",
        "* price                - Price of listing  \n",
        "* minimum_nights       - Maximum nights to be paid for  \n",
        "* number_of_reviews    - Number of reviews     \n",
        "* last_review          - Content of the last review    \n",
        "* reviews_per_month    - Number of checks per month             \n",
        "* calculated_host_listings_count - Total count       \n",
        "* availability_365     - Availabily around the year\n",
        "\n",
        "\n",
        "\n",
        "\n",
        "\n",
        "\n",
        "\n"
      ],
      "metadata": {
        "id": "aJV4KIxSnxay"
      }
    },
    {
      "cell_type": "markdown",
      "source": [
        "### Check Unique Values for each variable."
      ],
      "metadata": {
        "id": "u3PMJOP6ngxN"
      }
    },
    {
      "cell_type": "code",
      "source": [
        "# Check Unique Values for each variable.\n",
        "\n",
        "for i in airbnb_df.columns.tolist():\n",
        "  print(\"No. of unique values in \",i,\"is\",airbnb_df[i].nunique(),\".\")"
      ],
      "metadata": {
        "id": "zms12Yq5n-jE"
      },
      "execution_count": null,
      "outputs": []
    },
    {
      "cell_type": "markdown",
      "source": [
        "## 3. ***Data Wrangling***"
      ],
      "metadata": {
        "id": "dauF4eBmngu3"
      }
    },
    {
      "cell_type": "markdown",
      "source": [
        "## Data Cleaning\n"
      ],
      "metadata": {
        "id": "mOoJU4BtfbDB"
      }
    },
    {
      "cell_type": "code",
      "source": [
        "# Creating a copy of the current dataset and assigning to df\n",
        "df=airbnb_df.copy()\n",
        "\n",
        "# Removing unnecessary Columns\n",
        "df.drop(['latitude','longitude','last_review','reviews_per_month'],axis=1,inplace=True)\n",
        "df.head(1)"
      ],
      "metadata": {
        "id": "oTzzOeIXfvCN"
      },
      "execution_count": null,
      "outputs": []
    },
    {
      "cell_type": "markdown",
      "source": [
        "### Data Wrangling Code"
      ],
      "metadata": {
        "id": "bKJF3rekwFvQ"
      }
    },
    {
      "cell_type": "code",
      "source": [
        "# 1. What can we learn about different hosts and areas?\n",
        "hosts_areas = df.groupby(['host_name','neighbourhood_group'])['calculated_host_listings_count'].max().reset_index()\n",
        "hosts_areas.sort_values(by='calculated_host_listings_count',ascending=False).head()\n"
      ],
      "metadata": {
        "id": "wk-9a2fpoLcV"
      },
      "execution_count": null,
      "outputs": []
    },
    {
      "cell_type": "code",
      "source": [
        "# 2.What we learn from room type and their prices according to area?\n",
        "room_price_area_wise = df.groupby(['neighbourhood_group','room_type'])['price'].max().reset_index()\n",
        "room_price_area_wise.sort_values(by='price', ascending=False).head(10)"
      ],
      "metadata": {
        "id": "RR5eIlmPogsb"
      },
      "execution_count": null,
      "outputs": []
    },
    {
      "cell_type": "code",
      "source": [
        "# 3.What can we learn from Data? (ex: locations, prices, reviews, etc)\n",
        "areas_reviews = df.groupby(['neighbourhood_group'])['number_of_reviews'].max().reset_index()\n",
        "areas_reviews.sort_values(by='number_of_reviews',ascending=False)"
      ],
      "metadata": {
        "id": "zDQPSMrEq5VN"
      },
      "execution_count": null,
      "outputs": []
    },
    {
      "cell_type": "code",
      "source": [
        "# 4.Which hosts are the busiest and what's the reason?\n",
        "busiest_hosts = df.groupby(['host_id','host_name','room_type'])['number_of_reviews'].max().reset_index()\n",
        "busiest_hosts = busiest_hosts.sort_values(by='number_of_reviews',ascending=False).head(10)\n",
        "busiest_hosts"
      ],
      "metadata": {
        "id": "Wg-Q4u8kvQEg"
      },
      "execution_count": null,
      "outputs": []
    },
    {
      "cell_type": "code",
      "source": [
        "# 5. Which Hosts are charging higher price?\n",
        "\n",
        "Highest_price = df.groupby(['host_id','host_name','room_type','neighbourhood_group'])['price'].max().reset_index()\n",
        "Highest_price = Highest_price.sort_values(by='price',ascending=False).head(10)\n",
        "Highest_price"
      ],
      "metadata": {
        "id": "-P6BYQjDxAuD"
      },
      "execution_count": null,
      "outputs": []
    },
    {
      "cell_type": "code",
      "source": [
        "# 6. Is there any traffic difference among different areas and what could be the reason for it?\n",
        "traffic_areas = df.groupby(['neighbourhood_group','room_type'])['minimum_nights'].count().reset_index()\n",
        "traffic_areas = traffic_areas.sort_values(by='minimum_nights',ascending=False).head()\n",
        "traffic_areas"
      ],
      "metadata": {
        "id": "BQ0bGzQ8ymjr"
      },
      "execution_count": null,
      "outputs": []
    },
    {
      "cell_type": "code",
      "source": [
        "# 7. Number of reviews according to price :\n",
        "\n",
        "price_area = df.groupby(['price'])['number_of_reviews'].max().reset_index()\n",
        "price_area.head(10)\n"
      ],
      "metadata": {
        "id": "pmXaErknYBqh"
      },
      "execution_count": null,
      "outputs": []
    },
    {
      "cell_type": "markdown",
      "source": [
        "### What all manipulations have you done and insights you found?"
      ],
      "metadata": {
        "id": "MSa1f5Uengrz"
      }
    },
    {
      "cell_type": "markdown",
      "source": [
        "Answer Here -The following manupilations insisted those are:-    \n",
        "1.We learnt about different hosts and areas    \n",
        "2.We learnt from room type and their prices according to area     \n",
        "3.We learnt from Data.(ex: locations, prices, reviews, etc)     \n",
        "4.We learnt about the busiest hosts.     \n",
        "5.Hosts charging higher prices.     \n",
        "6.Traffic difference among different areas.    \n",
        "7.Number of reviews according to prices.\n",
        "\n",
        "Insights found :-\n",
        "1. The Sounder(NYC) has most no. of listing which is in manhattan.\n",
        "2. Entire home/apt is the highest no. of room type present and they charging higher as well, in airbnb dataframe.\n",
        "3. The data tells us that no. of reviews in Queen and manhattan are higher than any other hosts also the customer moving more towards the cheaper options i.e. (0 - 2000) range.   \n",
        "4. We got the Busiest hosts - Dona,Ji etc.\n",
        "5.We got the hosts charging the higher price than anyone i.e. Jelena, Kathrine etc.\n",
        "6. Traffic difference found between hosts and areas i.e Manhattan, Brooklyn & Queens has most of the traffic.     \n",
        "7. The customer's moving more towards the cheaper options i.e. (0 - 2000) range.   \n"
      ],
      "metadata": {
        "id": "LbyXE7I1olp8"
      }
    },
    {
      "cell_type": "markdown",
      "source": [
        "## ***4. Data Vizualization, Storytelling & Experimenting with charts : Understand the relationships between variables***"
      ],
      "metadata": {
        "id": "GF8Ens_Soomf"
      }
    },
    {
      "cell_type": "markdown",
      "source": [
        "#### Chart - 1"
      ],
      "metadata": {
        "id": "0wOQAZs5pc--"
      }
    },
    {
      "cell_type": "code",
      "source": [
        "# Chart - 1 To learn from room type and their prices according to area\n",
        "\n",
        "neighbourhood_group = ['Brooklyn', 'Manhattan', 'Queens', 'Manhattan', 'Brooklyn', 'Staten Island', 'Queens', 'Bronx', 'Queens', 'Bronx']\n",
        "room_type = ['Entire home/apt', 'Entire home/apt', 'Private room', 'Private room', 'Private room', 'Entire home/apt', 'Entire home/apt', 'Private room', 'Shared room', 'Entire home/apt']\n",
        "\n",
        "room_dict = {} #Create a dictionary named room_dict to store the count of each room type. Loop through the room_type list and increase the count of the room type in the dictionary if it already exists. If not, add the room type as a key with the count as 1.\n",
        "\n",
        "for i in room_type:\n",
        "    room_dict[i] = room_dict.get(i, 0) + 1\n",
        "\n",
        "plt.bar(room_dict.keys(), room_dict.values(), color='green', edgecolor='blue') #Plot a bar graph using the plt.bar function. The x-axis will be the room types which are the keys of the room_dict dictionary and the y-axis will be the count of each room type which are the values of the room_dict dictionary.\n",
        "plt.title('Room Types')\n",
        "plt.xlabel('Room Type')\n",
        "plt.ylabel('Count')\n",
        "plt.show()"
      ],
      "metadata": {
        "id": "7v_ESjsspbW7"
      },
      "execution_count": null,
      "outputs": []
    },
    {
      "cell_type": "markdown",
      "source": [
        "##### 1. Why did you pick the specific chart?"
      ],
      "metadata": {
        "id": "K5QZ13OEpz2H"
      }
    },
    {
      "cell_type": "markdown",
      "source": [
        "Answer Here.      \n",
        " Since these are categorical variables, to analyse data from 'Bar chart' it is easy to understand like, count of which room_type is more according to hosts so, it gives us difference insights from data in an ease but interpritable"
      ],
      "metadata": {
        "id": "XESiWehPqBRc"
      }
    },
    {
      "cell_type": "markdown",
      "source": [
        "##### 2. What is/are the insight(s) found from the chart?"
      ],
      "metadata": {
        "id": "lQ7QKXXCp7Bj"
      }
    },
    {
      "cell_type": "markdown",
      "source": [
        "Answer here --> We found that **Entire home/apt** is the highest number of room types overall and prices are **high** in the **brooklyn** and **Manhattan** for entire home/apt."
      ],
      "metadata": {
        "id": "C_j1G7yiqdRP"
      }
    },
    {
      "cell_type": "markdown",
      "source": [
        "##### 3. Will the gained insights help creating a positive business impact?\n"
      ],
      "metadata": {
        "id": "448CDAPjqfQr"
      }
    },
    {
      "cell_type": "markdown",
      "source": [
        "Answer Here - The above insight creating the **negative** impact on the business, why because in **brooklyn manhatten** and others where **Entire home/ap**t are high as the target customers who wants airbnb service affordable in the budget of customer then target audience is not collabing with airbnb,so that creating a depreciating aspect in these hosts areas."
      ],
      "metadata": {
        "id": "3cspy4FjqxJW"
      }
    },
    {
      "cell_type": "markdown",
      "source": [
        "#### Chart - 2"
      ],
      "metadata": {
        "id": "KSlN3yHqYklG"
      }
    },
    {
      "cell_type": "code",
      "source": [
        "# Chart - 2 Which hosts are the busiest and what is the reason?\n",
        "\n",
        "name_hosts = busiest_hosts['host_name']\n",
        "review_got = busiest_hosts['number_of_reviews']\n",
        "\n",
        "fig = plt.figure(figsize =(10,5))\n",
        "\n",
        "plt.bar(name_hosts,review_got, color ='purple', width =0.5)\n",
        "plt.xlabel('Name of the Host')\n",
        "plt.ylabel('Review')\n",
        "plt.title(\"Busiest Host in terms of reviews\")\n",
        "plt.show()"
      ],
      "metadata": {
        "id": "R4YgtaqtYklH"
      },
      "execution_count": null,
      "outputs": []
    },
    {
      "cell_type": "markdown",
      "source": [
        "##### 1. Why did you pick the specific chart?"
      ],
      "metadata": {
        "id": "t6dVpIINYklI"
      }
    },
    {
      "cell_type": "markdown",
      "source": [
        "Answer Here. Bar charts show the frequency counts of values for the different levels of a categorical or nominal variable.\n",
        "To show the maximum no. of reviews per hosts that's why I used Bar chart"
      ],
      "metadata": {
        "id": "5aaW0BYyYklI"
      }
    },
    {
      "cell_type": "markdown",
      "source": [
        "##### 2. What is/are the insight(s) found from the chart?"
      ],
      "metadata": {
        "id": "ijmpgYnKYklI"
      }
    },
    {
      "cell_type": "markdown",
      "source": [
        "Answer Here - We have found Busiest hosts :\n",
        "Dona,\n",
        "Ji,\n",
        "Maya,\n",
        "Carol and\n",
        "Danielle\n",
        "Because these hosts listed their room type as Entire home and Private room which is preferred by most number of people and also their reviews are higher."
      ],
      "metadata": {
        "id": "PSx9atu2YklI"
      }
    },
    {
      "cell_type": "markdown",
      "source": [
        "##### 3. Will the gained insights help creating a positive business impact?\n",
        "\n"
      ],
      "metadata": {
        "id": "-JiQyfWJYklI"
      }
    },
    {
      "cell_type": "markdown",
      "source": [
        "Answer Here - Yes, above visualization can help create a positive business impact:\n",
        "\n",
        "1.**Identify target audience**: By knowing that most people prefer entire homes and private rooms, businesses can target their marketing efforts towards those types of listings.   \n",
        "2.**Improve reviews**: The insights show that reviews are important for success. Businesses can focus on improving their reviews by providing excellent customer service and amenities.    \n",
        "3.**Increase bookings**: By understanding the preferences of their target audience and improving their reviews, businesses can increase their chances of getting bookings.   \n",
        "4.**Optimize pricing**: The insights can also be used to optimize pricing. Businesses can see what other hosts are charging for similar listings and adjust their prices accordingly.     \n",
        "**Make data-driven decisions**: The insights gained from the data can be used to make data-driven decisions about all aspects of the business, from marketing to operations.\n",
        "By taking action on the insights gained from the data, businesses can improve their performance and achieve a positive business impact."
      ],
      "metadata": {
        "id": "BcBbebzrYklV"
      }
    },
    {
      "cell_type": "markdown",
      "source": [
        "#### Chart - 3"
      ],
      "metadata": {
        "id": "EM7whBJCYoAo"
      }
    },
    {
      "cell_type": "code",
      "source": [
        "# Chart - 3 Hosts are charging higher price.\n",
        "\n",
        "name_of_host = Highest_price['host_name']\n",
        "price_charge = Highest_price['price']\n",
        "\n",
        "fig = plt.figure(figsize =(10,5))\n",
        "\n",
        "plt.bar(name_of_host,price_charge, color ='brown', width =0.5)\n",
        "plt.xlabel('Name of the Host')\n",
        "plt.ylabel('Price')\n",
        "plt.title(\"Hosts with maximum price charges\")\n",
        "plt.show()\n"
      ],
      "metadata": {
        "id": "t6GMdE67YoAp"
      },
      "execution_count": null,
      "outputs": []
    },
    {
      "cell_type": "markdown",
      "source": [
        "##### 1. Why did you pick the specific chart?"
      ],
      "metadata": {
        "id": "fge-S5ZAYoAp"
      }
    },
    {
      "cell_type": "markdown",
      "source": [
        "Answer Here. To show maximum price per host more interpretable that's why I used Bar plot"
      ],
      "metadata": {
        "id": "5dBItgRVYoAp"
      }
    },
    {
      "cell_type": "markdown",
      "source": [
        "##### 2. What is/are the insight(s) found from the chart?"
      ],
      "metadata": {
        "id": "85gYPyotYoAp"
      }
    },
    {
      "cell_type": "markdown",
      "source": [
        "Answer Here - Now we have found that **10 Hosts** who are charging **maximum price:**\n",
        "Jelena, Kathrine, Erin, Matt, Olson, Amy, Rum, Jessica, Sally, Jack\n",
        "\n",
        "Max Price is **10000 USD**"
      ],
      "metadata": {
        "id": "4jstXR6OYoAp"
      }
    },
    {
      "cell_type": "markdown",
      "source": [
        "##### 3. Will the gained insights help creating a positive business impact?\n",
        "\n"
      ],
      "metadata": {
        "id": "RoGjAbkUYoAp"
      }
    },
    {
      "cell_type": "markdown",
      "source": [
        "Answer Here - Yes, the gained insights can help create a positive business impact:\n",
        "\n",
        "**Identify high-value customers**:\n",
        " These hosts are likely to be experienced and reliable, attracting guests willing to pay a premium.\n",
        "Understanding their qualities can help attract and retain similar high-value hosts.    \n",
        "**Optimize pricing strategy**: Knowing the maximum price guests are willing to pay can inform pricing strategies.\n",
        "Hosts can adjust their prices to maximize revenue while maintaining competitiveness.         \n",
        "**Improve service quality**: Studying the qualities of these high-value hosts can reveal best practices.\n",
        "Other hosts can learn from them to improve their own service quality and potentially increase their prices.   \n",
        "**Targeted marketing**:These hosts may have a specific target audience or marketing strategy.\n",
        "Understanding their approach can help develop more effective marketing campaigns.    \n",
        "**Positive reputation**:   High-value hosts can contribute to the platform's reputation for quality and reliability.\n",
        "This can attract more guests and hosts, leading to overall business growth."
      ],
      "metadata": {
        "id": "zfJ8IqMcYoAp"
      }
    },
    {
      "cell_type": "markdown",
      "source": [
        "#### Chart - 4"
      ],
      "metadata": {
        "id": "4Of9eVA-YrdM"
      }
    },
    {
      "cell_type": "code",
      "source": [
        "# Chart - 4  Number of Reviews VS Price\n",
        "\n",
        "price_list = price_area['price']\n",
        "review = price_area['number_of_reviews']\n",
        "fig =plt.figure(figsize =(10,5))\n",
        "\n",
        "plt.scatter(price_list, review)\n",
        "plt.xlabel('Price')\n",
        "plt.ylabel('Number of reviews')\n",
        "plt.title('Number of Reviews VS Price')\n",
        "plt.show()\n"
      ],
      "metadata": {
        "id": "irlUoxc8YrdO"
      },
      "execution_count": null,
      "outputs": []
    },
    {
      "cell_type": "markdown",
      "source": [
        "##### 1. Why did you pick the specific chart?"
      ],
      "metadata": {
        "id": "iky9q4vBYrdO"
      }
    },
    {
      "cell_type": "markdown",
      "source": [
        "Answer Here - Answer Here - A **scatter plot** uses dots to represent values for two different numeric variables. The position of each dot on the horizontal and vertical axis indicates values for an **individual data point**. Scatter plots are used to observe relationships between variables.\n",
        "\n",
        "Thus, I have used the scatter plot to depict the relationship between **No. of Reviews** given by customer and the **price** they prefer to pay"
      ],
      "metadata": {
        "id": "aJRCwT6DYrdO"
      }
    },
    {
      "cell_type": "markdown",
      "source": [
        "##### 2. What is/are the insight(s) found from the chart?"
      ],
      "metadata": {
        "id": "F6T5p64dYrdO"
      }
    },
    {
      "cell_type": "markdown",
      "source": [
        "From the above visualization we found that there are most of the customer likely to stay where the **prices** are **less** ,means **under 2000** there are **most** number of reviews than any other places, reviews are higher there."
      ],
      "metadata": {
        "id": "Xx8WAJvtYrdO"
      }
    },
    {
      "cell_type": "markdown",
      "source": [
        "##### 3. Will the gained insights help creating a positive business impact?\n"
      ],
      "metadata": {
        "id": "y-Ehk30pYrdP"
      }
    },
    {
      "cell_type": "markdown",
      "source": [
        "Answer Here - Yes, the above gained insights can help create a positive business impact:\n",
        "\n",
        "**Set competitive pricing**: Businesses can use the data to set competitive pricing for their services. By offering prices that are lower than or comparable to the competition, businesses can attract more customers.    \n",
        "**Improve customer experience:** The data shows that customers are more likely to leave reviews for places where they have had a positive experience. Businesses can use this information to identify areas where they can improve the customer experience, such as providing better customer service or offering more amenities.     \n",
        "**Increase brand awareness:** The data shows that Airbnb booking analyses have a higher number of reviews than any other place. Businesses can use this information to increase brand awareness by promoting their positive reviews on social media and other online platforms."
      ],
      "metadata": {
        "id": "jLNxxz7MYrdP"
      }
    },
    {
      "cell_type": "markdown",
      "source": [
        "#### Chart - 5"
      ],
      "metadata": {
        "id": "bamQiAODYuh1"
      }
    },
    {
      "cell_type": "code",
      "source": [
        "# Chart - 5 Is there any traffic difference among different areas and what could be the reason for it.\n",
        "\n",
        "areas_Traffic = traffic_areas['room_type']\n",
        "room_stayed = traffic_areas['minimum_nights']\n",
        "\n",
        "fig = plt.figure(figsize =(7,5))\n",
        "\n",
        "plt.bar(areas_Traffic,room_stayed, color =\"blue\", width = 0.2)\n",
        "\n",
        "plt.xlabel(\"Room Type\")\n",
        "plt.ylabel(\"Minimum Night\")\n",
        "plt.title(\"Traffic Areas based on Minimum Nights Booked\")\n",
        "plt.show()"
      ],
      "metadata": {
        "id": "TIJwrbroYuh3"
      },
      "execution_count": null,
      "outputs": []
    },
    {
      "cell_type": "markdown",
      "source": [
        "##### 1. Why did you pick the specific chart?"
      ],
      "metadata": {
        "id": "QHF8YVU7Yuh3"
      }
    },
    {
      "cell_type": "markdown",
      "source": [
        "Answer Here - The bar graph is used to compare the items between different groups over time. Bar graphs are used to measure the changes over a period of time. When the changes are larger, a bar graph is the best option to represent the data.\n",
        "\n",
        "Thus, I have used the bar plot to show the room types where no. of minimum booking nights are increasing"
      ],
      "metadata": {
        "id": "dcxuIMRPYuh3"
      }
    },
    {
      "cell_type": "markdown",
      "source": [
        "##### 2. What is/are the insight(s) found from the chart?"
      ],
      "metadata": {
        "id": "GwzvFGzlYuh3"
      }
    },
    {
      "cell_type": "markdown",
      "source": [
        "Answer Here - From this visualization We found that most of the people likely to stay at **Entire home and Private room** but more like Entire home/apt which are present in **Manhattan, Brooklyn & Queens** there traffic is much more higher and also vistors referring stay in room which **listing price** is **less**."
      ],
      "metadata": {
        "id": "uyqkiB8YYuh3"
      }
    },
    {
      "cell_type": "markdown",
      "source": [
        "##### 3. Will the gained insights help creating a positive business impact?"
      ],
      "metadata": {
        "id": "qYpmQ266Yuh3"
      }
    },
    {
      "cell_type": "markdown",
      "source": [
        "Answer Here - Yes the above insight can create a great positive impact impact on the business    \n",
        "**Identify audience**: People looking for places to stay in Manhattan, Brooklyn, and Queens who are on a budget.     \n",
        "**Highlighting the benefits of staying in an entire home/apt**: More space, privacy, and amenities.     \n",
        "**Offer competitive pricing**: Price your listings lower than similar properties in the same area.    \n",
        "**Promote your listings in areas with high traffic**: Advertise your listings on websites and social media platforms that are popular with people looking for places to stay in areas like Manhattan, Brooklyn, and Queens.      \n",
        "**Provide excellent customer service**: Respond quickly to inquiries and requests, and make sure your guests have a positive experience.\n"
      ],
      "metadata": {
        "id": "_WtzZ_hCYuh4"
      }
    },
    {
      "cell_type": "markdown",
      "source": [
        "#### Chart - 6 - Correlation Heatmap"
      ],
      "metadata": {
        "id": "NC_X3p0fY2L0"
      }
    },
    {
      "cell_type": "code",
      "source": [
        "# Correlation Heatmap visualization code -\n",
        "\n",
        "corr = df[df.describe().columns].corr()\n",
        "plt.figure(figsize=(10, 8))\n",
        "sns.set(font_scale=1.2)  # Increasing font size for readability\n",
        "\n",
        "# Defining custom color palette with more contrast\n",
        "cmap = sns.diverging_palette(220, 20, as_cmap=True)\n",
        "\n",
        "# Drawing the heatmap with improved annotation and aesthetics\n",
        "sns.heatmap(corr, cmap=cmap, annot=False, fmt=\".2f\", annot_kws={\"size\": 12, \"weight\": \"bold\"},\n",
        "            linewidths=0.5, cbar_kws={\"shrink\": 0.8, \"label\": \"Correlation Coefficient\"},\n",
        "            square=True, linecolor='white', vmin=-1, vmax=1)\n",
        "\n",
        "# Adding title\n",
        "plt.title('Correlation Heatmap', fontsize=18)\n",
        "\n",
        "# Rotate y-axis labels for better readability\n",
        "plt.yticks(rotation=0)\n",
        "\n",
        "# Showing plot\n",
        "plt.tight_layout()  # Adjusting layout to prevent clipping of labels\n",
        "plt.show()"
      ],
      "metadata": {
        "id": "xyC9zolEZNRQ"
      },
      "execution_count": null,
      "outputs": []
    },
    {
      "cell_type": "markdown",
      "source": [
        "##### 1. Why did you pick the specific chart?"
      ],
      "metadata": {
        "id": "UV0SzAkaZNRQ"
      }
    },
    {
      "cell_type": "markdown",
      "source": [
        "Answer Here - A **correlation matrix** is a table showing correlation coefficients between variables. Each cell in the table shows the correlation between two variables. A correlation matrix is used to summarize data, as an input into a more advanced analysis, and as a diagnostic for advanced analyses.\n",
        "\n",
        "Thus to know the correlation between all the variables along with the **correlation coeficients**, So that's why I used **correlation heatmap**."
      ],
      "metadata": {
        "id": "DVPuT8LYZNRQ"
      }
    },
    {
      "cell_type": "markdown",
      "source": [
        "##### 2. What is/are the insight(s) found from the chart?"
      ],
      "metadata": {
        "id": "YPEH6qLeZNRQ"
      }
    },
    {
      "cell_type": "markdown",
      "source": [
        "Answer Here -  The correlation heatmap says it all that is expresses the relationship between the variables like **id** - **host_id** are slightly more correlated to each other than any of the variable"
      ],
      "metadata": {
        "id": "bfSqtnDqZNRR"
      }
    },
    {
      "cell_type": "markdown",
      "source": [
        "#### Chart - 7 - Pair Plot"
      ],
      "metadata": {
        "id": "q29F0dvdveiT"
      }
    },
    {
      "cell_type": "code",
      "source": [
        "# Pair Plot visualization code -\n",
        "\n",
        "sns.pairplot(df, hue = 'room_type')\n",
        "\n",
        "# Show plot\n",
        "plt.show()"
      ],
      "metadata": {
        "id": "o58-TEIhveiU"
      },
      "execution_count": null,
      "outputs": []
    },
    {
      "cell_type": "markdown",
      "source": [
        "##### 1. Why did you pick the specific chart?"
      ],
      "metadata": {
        "id": "EXh0U9oCveiU"
      }
    },
    {
      "cell_type": "markdown",
      "source": [
        "Pair plot is used to understand the best set of features to explain a relationship between two variables or to form the most separated clusters. It also helps to form some simple classification models by drawing some simple lines or make linear separation in our data-set.\n",
        "\n",
        "Thus, I used pair plot to analyse the patterns of data and realationship between the features. It's exactly same as the correlation map but here you will get the graphical representation."
      ],
      "metadata": {
        "id": "eMmPjTByveiU"
      }
    },
    {
      "cell_type": "markdown",
      "source": [
        "##### 2. What is/are the insight(s) found from the chart?"
      ],
      "metadata": {
        "id": "22aHeOlLveiV"
      }
    },
    {
      "cell_type": "markdown",
      "source": [
        "Answer Here -\n",
        "From the above chart I got to know that there are people who likely to have more space like Entire room/ apt,private rooms and also they want cheaper price options ,So it is obvious that the lacing part is our categories where we need some changes in the prices strategy , after market strategy i.e. get reviews from the customer as well as the recognition that the other options(room_types) needs, we have to target that also, and lastly the major thing that is we need to expand the coverage of \"Airbnb\" , we need collaborate with more and more partners to solve the problem of traffic"
      ],
      "metadata": {
        "id": "uPQ8RGwHveiV"
      }
    },
    {
      "cell_type": "markdown",
      "source": [
        "### Chart- 8 -"
      ],
      "metadata": {
        "id": "0eeKyp8jBwH7"
      }
    },
    {
      "cell_type": "code",
      "source": [
        "\n",
        "plt.rcParams['figure.figsize'] = (8, 5)\n",
        "ax= sns.countplot(y='room_type',hue='neighbourhood_group',data=df,palette='bright')\n",
        "\n",
        "total = len(df['room_type'])\n",
        "for p in ax.patches:\n",
        "        percentage = '{:.1f}%'.format(100 * p.get_width()/total)\n",
        "        x = p.get_x() + p.get_width() + 0.02\n",
        "        y = p.get_y() + p.get_height()/2\n",
        "        ax.annotate(percentage, (x, y))\n",
        "\n",
        "plt.title('Count of each room types in NYC')\n",
        "plt.xlabel('Rooms')\n",
        "plt.xticks(rotation=90)\n",
        "plt.ylabel('Room Counts')\n",
        "\n",
        "plt.show()\n",
        ""
      ],
      "metadata": {
        "id": "jtmg70t_DV-d"
      },
      "execution_count": null,
      "outputs": []
    },
    {
      "cell_type": "markdown",
      "source": [
        "### Insights Found       \n",
        " Manhattan has more listed properties with Entire home/apt around 27% of total listed properties followed by Brooklyn with around 19.6%.\n",
        "Private rooms are more in Brooklyn as in 20.7% of the total listed properties followed by Manhattan with 16.3% of them. While 6.9% of private rooms are from Queens.\n",
        "We can infer that Brooklyn,Queens,Bronx has more private room types while Manhattan which has the highest no of listings in entire NYC has more Entire home/apt room types"
      ],
      "metadata": {
        "id": "4eCt1rO4DpJx"
      }
    },
    {
      "cell_type": "markdown",
      "source": [
        "## **5. Solution to Business Objective**"
      ],
      "metadata": {
        "id": "JcMwzZxoAimU"
      }
    },
    {
      "cell_type": "markdown",
      "source": [
        "#### What do you suggest the client to achieve Business Objective ?"
      ],
      "metadata": {
        "id": "8G2x9gOozGDZ"
      }
    },
    {
      "cell_type": "markdown",
      "source": [
        "**Business Objective :-**   \n",
        "\n",
        "### 1. Focus on popular areas and room types:\n",
        "\n",
        "Target hosts in Manhattan, Brooklyn, and Queens, as these areas have the most traffic.\n",
        "Encourage hosts to list entire homes/apartments, as this is the most popular room type and commands higher prices.\n",
        "### 2. Offer competitive pricing:\n",
        "\n",
        "Analyze the pricing strategies of successful hosts, such as Jelena and Kathrine.\n",
        "Encourage hosts to price their listings competitively, especially if they are located in popular areas or offering desirable room types.\n",
        "### 3. Improve customer experience:\n",
        "\n",
        "Encourage hosts to improve their customer service and hospitality to increase the number of positive reviews.\n",
        "Offer incentives to hosts who consistently receive high ratings.\n",
        "### 4. Target budget-conscious customers:\n",
        "\n",
        "Promote the platform to budget-conscious customers by highlighting the availability of affordable listings.\n",
        "Offer discounts or promotions to attract new customers and encourage repeat bookings.\n",
        "### 5. Personalize the experience:\n",
        "\n",
        "Use data and analytics to understand customer preferences and tailor the platform accordingly.\n",
        "Offer personalized recommendations to customers based on their previous searches and bookings.\n",
        "### 5. Manage the Traffic:\n",
        "\n",
        "The traffic should be managed because its the better time to expand the business by collaborating more and more hosts in the busiest areas that will generate more and more revenue to airbnb."
      ],
      "metadata": {
        "id": "pASKb0qOza21"
      }
    },
    {
      "cell_type": "markdown",
      "source": [
        "# **Conclusion**"
      ],
      "metadata": {
        "id": "gCX9965dhzqZ"
      }
    },
    {
      "cell_type": "markdown",
      "source": [
        "We find that Host name Sonder(NYC) has listed highest number of listings in Manhattan followed by Blueground.\n",
        "\n",
        "We found that Entire home/apt is the highest number of room types overall and prices are high in the brooklyn and Manhattan for entire home/apt.\n",
        "\n",
        "From above visualization we can say that most number of people like to stay in less price and their reviews are higher in those areas.\n",
        "\n",
        "We have found Busiest hosts : Dona, Ji, Maya,Carol,Danielle\n",
        "\n",
        "Because these hosts listed their room type as Entire home and Private room which is preferred by most number of people and also their reviews are higher.\n",
        "\n",
        "Now we have seen that 10 Hosts who are charging maximum price: Jelena,Kathrine,Erin,Matt,Olson,Amy,Rum,Jessica,Sally & Jack\n",
        "Max Price is 10000 USD\n",
        "\n",
        "From this visualization We found that most of the people likely to stay at Entire home and Private room which are present in Manhattan, Brooklyn & Queens and also vistors referring stay in room which listing price is less.\n",
        "\n",
        "We have seen all the correlation between different variables\n",
        "\n",
        "Manhattan has more listed properties with Entire home/apt around 27% of total listed properties followed by Brooklyn with around 19.6%. Private rooms are more in Brooklyn as in 20.7% of the total listed properties followed by Manhattan with 16.3% of them. While 6.9% of private rooms are from Queens. We can infer that Brooklyn,Queens,Bronx has more private room types while Manhattan which has the highest no of listings in entire NYC has more Entire home/apt room types."
      ],
      "metadata": {
        "id": "Fjb1IsQkh3yE"
      }
    },
    {
      "cell_type": "markdown",
      "source": [
        "### ***Hurrah! You have successfully completed your EDA Capstone Project !!!***"
      ],
      "metadata": {
        "id": "gIfDvo9L0UH2"
      }
    }
  ]
}